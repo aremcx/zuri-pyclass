{
 "metadata": {
  "language_info": {
   "codemirror_mode": {
    "name": "ipython",
    "version": 3
   },
   "file_extension": ".py",
   "mimetype": "text/x-python",
   "name": "python",
   "nbconvert_exporter": "python",
   "pygments_lexer": "ipython3",
   "version": "3.9.2-final"
  },
  "orig_nbformat": 2,
  "kernelspec": {
   "name": "python3",
   "display_name": "Python 3.9.2 64-bit",
   "metadata": {
    "interpreter": {
     "hash": "64715cfc805cf6b93bb6414eeaaf13dd7eb6c09d8abc40c7815a9316a76e996d"
    }
   }
  }
 },
 "nbformat": 4,
 "nbformat_minor": 2,
 "cells": [
  {
   "cell_type": "code",
   "execution_count": 1,
   "metadata": {},
   "outputs": [
    {
     "output_type": "execute_result",
     "data": {
      "text/plain": [
       "12"
      ]
     },
     "metadata": {},
     "execution_count": 1
    }
   ],
   "source": [
    "5+7"
   ]
  },
  {
   "cell_type": "code",
   "execution_count": 2,
   "metadata": {},
   "outputs": [
    {
     "output_type": "stream",
     "name": "stdout",
     "text": [
      "Hello World!\n"
     ]
    }
   ],
   "source": [
    "print('Hello World!')"
   ]
  },
  {
   "cell_type": "code",
   "execution_count": 27,
   "metadata": {},
   "outputs": [
    {
     "output_type": "stream",
     "name": "stdout",
     "text": [
      "date and time = 30/03/2021 17:18:57\n",
      "Access Granted!\n",
      " Welcome Abdul!\n",
      "These are the available Options\n",
      "1. Withdrawal\n",
      "2. Cash Deposit\n",
      "3. Complaints\n",
      "You've selected 3\n",
      "Complaints received\n",
      "Thank you for contacting us\n"
     ]
    }
   ],
   "source": [
    "#Time\n",
    "from datetime import datetime\n",
    "now = datetime.now()\n",
    "dt_string = now.strftime(\"%d/%m/%Y %H:%M:%S\")\n",
    "\n",
    "#user credentials\n",
    "userName = input('Enter your Name here: \\n')\n",
    "accessedUser = ['Abdul','Aremu','Wakil']\n",
    "accessedPassword = ['pass1','pass2','pass3']\n",
    "\n",
    "if(userName in accessedUser):\n",
    "    passWord = input('Enter your Password: \\n')\n",
    "    userId = accessedUser.index(userName)\n",
    "\n",
    "    if (passWord == accessedPassword[userId]):\n",
    "        print(\"date and time =\", dt_string)\n",
    "        print('Access Granted!\\n Welcome %s!' % userName)\n",
    "        print('These are the available Options')\n",
    "        print('1. Withdrawal')\n",
    "        print('2. Cash Deposit')\n",
    "        print('3. Complaints')\n",
    "\n",
    "        selectedOption = int(input('Enter your option'))\n",
    "        if(selectedOption == 1):\n",
    "            print(\"You've selected %s\"% selectedOption)\n",
    "            withdrawalMoney = int(input('How much would you like to withdraw'))\n",
    "            if(type(withdrawalMoney)) == int:\n",
    "                print('Take your cash')\n",
    "            else:\n",
    "                print('invalid input!')\n",
    "\n",
    "        elif(selectedOption == 2):\n",
    "            print(\"You've selected %s\"% selectedOption)\n",
    "            depositMoney = int(input('How much would you like to deposit? \\n'))\n",
    "            if(type(depositMoney)) == int:\n",
    "                oldBal = 0\n",
    "                currentBal = oldBal + depositMoney \n",
    "                print('Current balance %s'%currentBal)\n",
    "            else:\n",
    "                print('invalid input!')\n",
    "\n",
    "        elif(selectedOption == 3):\n",
    "            print(\"You've selected %s\"% selectedOption)\n",
    "            reportIssue = str(input('What issue will you like to report \\n?'))\n",
    "            if (type(reportIssue) == str):\n",
    "                print('Complaints received')\n",
    "                print('Thank you for contacting us')\n",
    "            else:\n",
    "                print('Complaints not recorded')\n",
    "\n",
    "\n",
    "        else:\n",
    "            print(\"Invalid selection, try again\")\n",
    "    else:\n",
    "        print('Access Denied, incorrect password!')\n",
    "else:\n",
    "    print('User not found, Try again!')"
   ]
  },
  {
   "cell_type": "code",
   "execution_count": 11,
   "metadata": {},
   "outputs": [
    {
     "output_type": "stream",
     "name": "stdout",
     "text": [
      "0\n"
     ]
    }
   ],
   "source": [
    "print(userId)"
   ]
  },
  {
   "cell_type": "code",
   "execution_count": null,
   "metadata": {},
   "outputs": [],
   "source": []
  }
 ]
}